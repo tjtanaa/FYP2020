{
 "cells": [
  {
   "cell_type": "code",
   "execution_count": 17,
   "metadata": {},
   "outputs": [],
   "source": [
    "from mpl_toolkits.mplot3d import Axes3D\n",
    "import matplotlib.pyplot as plt\n",
    "import os\n",
    "import numpy as np\n",
    "from pylab import *\n",
    "# %matplotlib notebook\n",
    "\n",
    "def surface_plot(X,Y,Z,**kwargs):\n",
    "    \"\"\" WRITE DOCUMENTATION\n",
    "    \"\"\"\n",
    "    ion()\n",
    "    xlabel, ylabel, zlabel, title = kwargs.get('xlabel',\"\"), kwargs.get('ylabel',\"\"), kwargs.get('zlabel',\"\"), kwargs.get('title',\"\")\n",
    "    fig = plt.figure()\n",
    "    fig.patch.set_facecolor('white')\n",
    "    ax = fig.add_subplot(111, projection='3d')\n",
    "    ax.scatter(X,Y,Z, c='r',marker='o')\n",
    "#     ax.plot_surface(X,Y,Z)\n",
    "\n",
    "    ax.set_xlabel(xlabel)\n",
    "    ax.set_ylabel(ylabel)\n",
    "    ax.set_zlabel(zlabel)\n",
    "    ax.set_title(title)\n",
    "    plt.show()\n",
    "    plt.close()"
   ]
  },
  {
   "cell_type": "code",
   "execution_count": 18,
   "metadata": {},
   "outputs": [],
   "source": [
    "def parse_stats_data(line):\n",
    "    split_info = line.strip('\\n').split(',')\n",
    "    original_resolution = split_info[0].split('x')\n",
    "    compressed_resolution = split_info[1].split('x')\n",
    "    int_original_resolution = int(original_resolution[0]) *int(original_resolution[1])\n",
    "    int_compressed_resolution = int(compressed_resolution[0]) *int(compressed_resolution[1])\n",
    "    data_list = []\n",
    "    for i, d in enumerate(split_info[2:]):\n",
    "        if d == 'nan':\n",
    "            data_list.append(np.nan)\n",
    "        else:\n",
    "            data_list.append(float(d))\n",
    "    data_list.insert(0,int_compressed_resolution)\n",
    "    data_list.insert(0,int_original_resolution)\n",
    "    \n",
    "    return original_resolution, compressed_resolution, data_list\n",
    "    "
   ]
  },
  {
   "cell_type": "code",
   "execution_count": 62,
   "metadata": {
    "scrolled": false
   },
   "outputs": [
    {
     "data": {
      "image/png": "[encoded data removed]",
      "text/plain": [
       "<Figure size 432x288 with 1 Axes>"
      ]
     },
     "metadata": {
      "needs_background": "light"
     },
     "output_type": "display_data"
    },
    {
     "data": {
      "image/png": "[encoded data removed]",
      "text/plain": [
       "<Figure size 432x288 with 1 Axes>"
      ]
     },
     "metadata": {
      "needs_background": "light"
     },
     "output_type": "display_data"
    }
   ],
   "source": [
    "cur_dir = os.getcwd()\n",
    "\n",
    "# replace the name of the stats file to the one that you want to analyse\n",
    "stats_path = os.path.join(cur_dir, 'video_analysis\\original_videos\\log\\stats_10311226.txt')\n",
    "\n",
    "title_list = []\n",
    "data_list = []\n",
    "with open(stats_path, 'r') as f:\n",
    "    i = 0\n",
    "    ori_res_list = []\n",
    "    comp_res_list = []\n",
    "    for line in f.readlines():\n",
    "        if (i==0):\n",
    "            title_list = line.split(',')\n",
    "            i += 1\n",
    "            continue\n",
    "        else:\n",
    "            original_resolution, compressed_resolution, data = parse_stats_data(line)\n",
    "            ori_res_list.append(original_resolution) \n",
    "            comp_res_list.append(compressed_resolution)\n",
    "            data_list.append(data)\n",
    "\n",
    "# np_data = np.asarray(data_list)\n",
    "np_data=np.array([np.array(xi) for xi in data_list])\n",
    "# print(np_data)\n",
    "\n",
    "# 4: psnr\n",
    "# 8: ssim\n",
    "# 12: lpips\n",
    "# 16: tof\n",
    "# 20: tlp100\n",
    "\n",
    "metric_index = 16\n",
    "for i in range(len(data_list)//8):\n",
    "    x = np.array([np.array(xi[1]) for xi in data_list[8*i:8*(i+1)]])\n",
    "    y = np.array([np.array(xi[2]) for xi in data_list[8*i:8*(i+1)]])\n",
    "    z = np.array([np.array(xi[metric_index]) for xi in data_list[8*i:8*(i+1)]])\n",
    "    # print(x)\n",
    "    # print(y)\n",
    "    # print(z)\n",
    "    # surface_plot(x,y,z)\n",
    "\n",
    "    arg_list = np.argsort(y)\n",
    "\n",
    "    x_sort = x[arg_list]\n",
    "    y_sort = y[arg_list]\n",
    "    z_sort = z[arg_list]\n",
    "    \n",
    "    from scipy.interpolate import interp1d\n",
    "\n",
    "    xnew = np.linspace(y_sort.min(),y_sort.max(),300) #300 represents number of points to make between T.min and T.max\n",
    "\n",
    "    f = interp1d(y_sort, z_sort, kind='cubic')\n",
    "\n",
    "    # plt.plot(y_sort, z_sort)\n",
    "    plt.figure()\n",
    "    plt.plot(y_sort, z_sort, 'o', xnew, f(xnew), '-') #, xnew, f2(xnew), '--')\n",
    "    plt.title(title_list[metric_index])\n",
    "    plt.show()\n",
    "    \n",
    "#     x_grid = np.linspace(min(x), max(x) + 1, 1000*len(x))\n",
    "#     y_grid = np.linspace(min(y), max(y) + 1, 1000*len(y))\n",
    "#     B1, B2 = np.meshgrid(x_grid, y_grid, indexing='xy')\n",
    "#     Z = np.zeros((x.size, z.size))\n",
    "\n",
    "#     import scipy as sp\n",
    "#     import scipy.interpolate\n",
    "#     spline = sp.interpolate.Rbf(x,y,z,function='thin_plate',smooth=5, episilon=5)\n",
    "\n",
    "#     Z = spline(B1,B2)\n",
    "#     fig = plt.figure(figsize=(10,6))\n",
    "#     ax = axes3d.Axes3D(fig)\n",
    "#     ax.plot_wireframe(B1, B2, Z)\n",
    "#     ax.plot_surface(B1, B2, Z,alpha=0.2)\n",
    "#     ax.scatter3D(x,y,z, c='r')\n",
    "\n"
   ]
  }
 ],
 "metadata": {
  "kernelspec": {
   "display_name": "Python 3",
   "language": "python",
   "name": "python3"
  },
  "language_info": {
   "codemirror_mode": {
    "name": "ipython",
    "version": 3
   },
   "file_extension": ".py",
   "mimetype": "text/x-python",
   "name": "python",
   "nbconvert_exporter": "python",
   "pygments_lexer": "ipython3",
   "version": "3.7.4"
  }
 },
 "nbformat": 4,
 "nbformat_minor": 2
}
